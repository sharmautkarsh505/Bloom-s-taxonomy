{
 "cells": [
  {
   "cell_type": "code",
   "execution_count": 1,
   "id": "0f2bd1f1",
   "metadata": {},
   "outputs": [
    {
     "name": "stdout",
     "output_type": "stream",
     "text": [
      "<class 'pandas.core.frame.DataFrame'>\n",
      "RangeIndex: 141 entries, 0 to 140\n",
      "Data columns (total 2 columns):\n",
      " #   Column    Non-Null Count  Dtype \n",
      "---  ------    --------------  ----- \n",
      " 0   txt       141 non-null    object\n",
      " 1   category  141 non-null    object\n",
      "dtypes: object(2)\n",
      "memory usage: 2.3+ KB\n"
     ]
    },
    {
     "data": {
      "text/html": [
       "<div>\n",
       "<style scoped>\n",
       "    .dataframe tbody tr th:only-of-type {\n",
       "        vertical-align: middle;\n",
       "    }\n",
       "\n",
       "    .dataframe tbody tr th {\n",
       "        vertical-align: top;\n",
       "    }\n",
       "\n",
       "    .dataframe thead th {\n",
       "        text-align: right;\n",
       "    }\n",
       "</style>\n",
       "<table border=\"1\" class=\"dataframe\">\n",
       "  <thead>\n",
       "    <tr style=\"text-align: right;\">\n",
       "      <th></th>\n",
       "      <th>txt</th>\n",
       "      <th>category</th>\n",
       "    </tr>\n",
       "  </thead>\n",
       "  <tbody>\n",
       "    <tr>\n",
       "      <th>0</th>\n",
       "      <td>Interpret the graph and state how many trees w...</td>\n",
       "      <td>Application</td>\n",
       "    </tr>\n",
       "    <tr>\n",
       "      <th>1</th>\n",
       "      <td>Justify the concept of inheritance and give th...</td>\n",
       "      <td>Evaluation</td>\n",
       "    </tr>\n",
       "    <tr>\n",
       "      <th>2</th>\n",
       "      <td>Create several different strategies to solve a...</td>\n",
       "      <td>Synthesis</td>\n",
       "    </tr>\n",
       "    <tr>\n",
       "      <th>3</th>\n",
       "      <td>What is the definition of the following terms...</td>\n",
       "      <td>Knowledge</td>\n",
       "    </tr>\n",
       "    <tr>\n",
       "      <th>4</th>\n",
       "      <td>Can you justify the decisions you have made ?</td>\n",
       "      <td>Evaluation</td>\n",
       "    </tr>\n",
       "  </tbody>\n",
       "</table>\n",
       "</div>"
      ],
      "text/plain": [
       "                                                 txt     category\n",
       "0  Interpret the graph and state how many trees w...  Application\n",
       "1  Justify the concept of inheritance and give th...   Evaluation\n",
       "2  Create several different strategies to solve a...    Synthesis\n",
       "3   What is the definition of the following terms...    Knowledge\n",
       "4      Can you justify the decisions you have made ?   Evaluation"
      ]
     },
     "execution_count": 1,
     "metadata": {},
     "output_type": "execute_result"
    }
   ],
   "source": [
    "import numpy as np\n",
    "import pandas as pd\n",
    "import seaborn as sns\n",
    "import matplotlib.pyplot as plt \n",
    "import warnings \n",
    "import re \n",
    "import sys\n",
    "import string \n",
    "import math\n",
    "warnings.filterwarnings('ignore')\n",
    "np.set_printoptions(threshold=sys.maxsize)\n",
    "\n",
    "\n",
    "data=pd.read_csv(r\"C:\\Users\\utkarsh.sharma\\Desktop\\Bloom's taxonomy\\data1.1.csv\")\n",
    "data.info()\n",
    "data.head()"
   ]
  },
  {
   "cell_type": "code",
   "execution_count": 2,
   "id": "1bd6be64",
   "metadata": {},
   "outputs": [
    {
     "name": "stdout",
     "output_type": "stream",
     "text": [
      "                                                  txt   category\n",
      "count                                             141        141\n",
      "unique                                            141          6\n",
      "top     What distinctions can be made about...and...?  Synthesis\n",
      "freq                                                1         30\n",
      "Index(['txt', 'category'], dtype='object')\n"
     ]
    }
   ],
   "source": [
    "print(data.describe())\n",
    "data['category']=data['category'].astype('category')\n",
    "print(data.columns)"
   ]
  },
  {
   "cell_type": "code",
   "execution_count": 3,
   "id": "5a1319ea",
   "metadata": {},
   "outputs": [],
   "source": [
    "#Pre-processing \n",
    "\n",
    "#Expanding contractions is not requirement here, but would have to be added eventually \n",
    "\n",
    "#Case Conversion \n",
    "data['txt']=data['txt'].str.lower()\n",
    "#Punctuation removal \n",
    "data['txt'] = data['txt'].apply(lambda x: re.sub('[%s]' % re.escape(string.punctuation), '' , x))\n",
    "#Removing objects in the given list that have numbers and digits\n",
    "data['txt'] = data['txt'].str.replace('\\d+', '')\n",
    "\n",
    "#Selected stop word removal\n",
    "#converting number to text "
   ]
  },
  {
   "cell_type": "code",
   "execution_count": 4,
   "id": "4fee622c",
   "metadata": {},
   "outputs": [],
   "source": [
    "#Lemmatization\n",
    "\n",
    "#lemmatization would have to be done along with POS tags at a latter stage\n",
    "from nltk.stem import WordNetLemmatizer\n",
    "lemmatizer = WordNetLemmatizer()\n",
    "def lemmatize_words(text):\n",
    "    return \" \".join([lemmatizer.lemmatize(word) for word in text.split()])\n",
    "data['txt'] = data['txt'].apply(lambda text: lemmatize_words(text))\n",
    "\n",
    "#Removing non-english words"
   ]
  },
  {
   "cell_type": "code",
   "execution_count": 5,
   "id": "3ae3040b",
   "metadata": {},
   "outputs": [
    {
     "name": "stdout",
     "output_type": "stream",
     "text": [
      "['about', 'aboutand', 'above', 'abstract', 'accept', 'according', 'action', 'add', 'address', 'adopt', 'advertising', 'advice', 'advising', 'affect', 'after', 'against', 'air', 'all', 'along', 'alpha', 'alphaint', 'alphaj', 'alternative', 'an', 'analysis', 'analyze', 'and', 'animal', 'another', 'answer', 'apply', 'appropriate', 'argument', 'array', 'arraylist', 'art', 'ass', 'astrology', 'atomic', 'attribute', 'author', 'bad', 'based', 'be', 'been', 'below', 'best', 'between', 'book', 'both', 'briefly', 'building', 'but', 'calculate', 'campaign', 'can', 'case', 'categorize', 'central', 'change', 'character', 'choose', 'cite', 'city', 'class', 'classify', 'climax', 'code', 'collect', 'color', 'company', 'compare', 'component', 'con', 'concept', 'concern', 'configuration', 'construct', 'consumer', 'content', 'contrast', 'correct', 'could', 'course', 'cover', 'create', 'creates', 'criterion', 'criticism', 'current', 'cut', 'data', 'datatype', 'deal', 'decision', 'declare', 'defend', 'defensive', 'define', 'definition', 'demand', 'demography', 'demonstrate', 'dependence', 'descending', 'describe', 'design', 'develop', 'development', 'devise', 'diagram', 'difference', 'different', 'differentiate', 'discriminate', 'discus', 'dispersion', 'displaysize', 'dispute', 'distinction', 'distinguish', 'distinguishing', 'do', 'doe', 'dog', 'done', 'dont', 'down', 'draw', 'each', 'economic', 'economy', 'effect', 'egg', 'element', 'else', 'encapsulation', 'ending', 'english', 'entry', 'environmental', 'establishing', 'evaluate', 'event', 'evidence', 'example', 'executes', 'execution', 'experiment', 'explain', 'explaining', 'explanation', 'express', 'expression', 'facility', 'fact', 'factorialexample', 'feeling', 'find', 'first', 'five', 'flowchart', 'following', 'food', 'for', 'form', 'fossil', 'four', 'fraction', 'from', 'fruit', 'fuel', 'function', 'future', 'give', 'given', 'good', 'graph', 'grow', 'ha', 'handle', 'happen', 'happening', 'have', 'healthy', 'heart', 'hen', 'house', 'how', 'hypothesis', 'idea', 'identify', 'if', 'illustrate', 'illustration', 'imagination', 'implemented', 'importance', 'important', 'in', 'incfromn', 'include', 'increase', 'information', 'inheritance', 'input', 'instance', 'int', 'integer', 'interest', 'interpret', 'into', 'introduction', 'investor', 'is', 'it', 'item', 'jalpha', 'java', 'jfor', 'jifj', 'journal', 'judge', 'judgment', 'justify', 'key', 'kfor', 'kind', 'kmatrikjk', 'know', 'known', 'label', 'large', 'law', 'legal', 'lesson', 'like', 'limitation', 'linked', 'list', 'little', 'local', 'loop', 'made', 'magazine', 'main', 'make', 'many', 'market', 'marketing', 'mass', 'math', 'mathematical', 'matrix', 'matrixint', 'may', 'mean', 'meaning', 'meant', 'measure', 'medium', 'meet', 'member', 'memorize', 'memory', 'menu', 'merge', 'method', 'might', 'mistake', 'mix', 'model', 'molecular', 'monetary', 'morphology', 'most', 'mountaineer', 'multiplication', 'music', 'musictype', 'mytune', 'name', 'nested', 'new', 'not', 'number', 'object', 'of', 'on', 'one', 'opportunity', 'or', 'order', 'organisation', 'oriented', 'original', 'others', 'outline', 'output', 'overloading', 'own', 'pantomime', 'paper', 'parameter', 'part', 'passage', 'people', 'periodic', 'photograph', 'picture', 'pig', 'plan', 'plant', 'play', 'poem', 'point', 'position', 'predict', 'prepare', 'present', 'pressure', 'price', 'principle', 'print', 'priority', 'pro', 'probability', 'problem', 'produce', 'product', 'production', 'program', 'programming', 'project', 'promotion', 'proof', 'propose', 'public', 'pump', 'puppet', 'put', 'question', 'questionnaire', 'rank', 'rate', 'recall', 'recommendation', 'record', 'reducing', 'reference', 'referring', 'regarded', 'relation', 'relationship', 'remember', 'report', 'resolution', 'resource', 'restaurant', 'return', 'rewrite', 'risk', 'risky', 'role', 'rubric', 'sale', 'sample', 'scenario', 'scientific', 'see', 'selected', 'sentence', 'set', 'sethour', 'settle', 'several', 'shape', 'short', 'should', 'show', 'similarity', 'single', 'sketch', 'soil', 'solution', 'solve', 'someone', 'something', 'song', 'sought', 'sqrt', 'state', 'statement', 'statistical', 'step', 'story', 'strategy', 'study', 'substitute', 'suggest', 'summary', 'supply', 'system', 'table', 'take', 'technique', 'tell', 'tendency', 'term', 'test', 'text', 'textbook', 'texture', 'that', 'thcentury', 'the', 'their', 'them', 'then', 'these', 'thing', 'think', 'this', 'three', 'title', 'to', 'too', 'topic', 'trace', 'tree', 'tv', 'two', 'type', 'us', 'use', 'used', 'using', 'validity', 'value', 'variable', 'view', 'wa', 'way', 'weather', 'well', 'were', 'what', 'which', 'while', 'why', 'with', 'wolf', 'woman', 'word', 'work', 'would', 'write', 'xxxx', 'you', 'your']\n",
      "  (0, 302)\t0.30914719972682775\n",
      "  (0, 328)\t0.2853288399391818\n",
      "  (0, 425)\t0.14627617973301885\n",
      "  (0, 127)\t0.30914719972682775\n",
      "  (0, 90)\t0.30914719972682775\n",
      "  (0, 445)\t0.30914719972682775\n",
      "  (0, 429)\t0.30914719972682775\n",
      "  (0, 247)\t0.30914719972682775\n",
      "  (0, 188)\t0.1768988829816997\n",
      "  (0, 391)\t0.25532125543363343\n",
      "  (0, 26)\t0.16567566727823124\n",
      "  (0, 177)\t0.30914719972682775\n",
      "  (0, 415)\t0.09318915465704486\n",
      "  (0, 210)\t0.30914719972682775\n",
      "  (1, 29)\t0.3158618134057275\n",
      "  (1, 459)\t0.22050677813417408\n",
      "  (1, 193)\t0.3158618134057275\n",
      "  (1, 67)\t0.3158618134057275\n",
      "  (1, 366)\t0.3422289703902073\n",
      "  (1, 174)\t0.3158618134057275\n",
      "  (1, 204)\t0.3158618134057275\n",
      "  (1, 287)\t0.28244060324098663\n",
      "  (1, 74)\t0.28264312419131643\n",
      "  (1, 224)\t0.27078686081992287\n",
      "  (1, 425)\t0.16192916004698893\n",
      "  :\t:\n",
      "  (138, 145)\t0.32716665352467045\n",
      "  (138, 176)\t0.29275905208791553\n",
      "  (138, 372)\t0.30778929728234733\n",
      "  (138, 422)\t0.26110109133470977\n",
      "  (138, 47)\t0.29275905208791553\n",
      "  (138, 87)\t0.27009534440848304\n",
      "  (138, 107)\t0.27009534440848304\n",
      "  (138, 164)\t0.19938264019264038\n",
      "  (138, 287)\t0.29254928281927994\n",
      "  (138, 26)\t0.18996871695633438\n",
      "  (139, 187)\t0.492847147759687\n",
      "  (139, 51)\t0.492847147759687\n",
      "  (139, 397)\t0.45487555786326184\n",
      "  (139, 106)\t0.38996269618475626\n",
      "  (139, 459)\t0.3175538778648516\n",
      "  (139, 425)\t0.23319570104566456\n",
      "  (140, 364)\t0.4134052697802229\n",
      "  (140, 261)\t0.4134052697802229\n",
      "  (140, 333)\t0.4134052697802229\n",
      "  (140, 444)\t0.4134052697802229\n",
      "  (140, 222)\t0.3414268431880825\n",
      "  (140, 87)\t0.31499555741659274\n",
      "  (140, 287)\t0.17059110110783024\n",
      "  (140, 188)\t0.23655698808687398\n",
      "  (140, 415)\t0.12461664752463666\n"
     ]
    }
   ],
   "source": [
    "from sklearn.feature_extraction.text import TfidfVectorizer\n",
    "corpus =data['txt']\n",
    "\n",
    "vectorizer = TfidfVectorizer()\n",
    "X = vectorizer.fit_transform(corpus)\n",
    "print(vectorizer.get_feature_names())\n",
    "print(X)"
   ]
  },
  {
   "cell_type": "code",
   "execution_count": 6,
   "id": "530794af",
   "metadata": {},
   "outputs": [],
   "source": [
    "#X and Y for input and outcome \n",
    "y=data['category'].values"
   ]
  },
  {
   "cell_type": "code",
   "execution_count": 7,
   "id": "3a1e4b15",
   "metadata": {},
   "outputs": [],
   "source": [
    "#splitting dataset into training and testing \n",
    "\n",
    "from sklearn.model_selection import train_test_split\n",
    "X_train,X_test,y_train,y_test=train_test_split(X,y,test_size=0.2,random_state=0)"
   ]
  },
  {
   "cell_type": "code",
   "execution_count": 8,
   "id": "8b9f89bb",
   "metadata": {},
   "outputs": [
    {
     "name": "stdout",
     "output_type": "stream",
     "text": [
      "75.86206896551724\n",
      "0.7239811912225704\n",
      "0.7417972831765935\n",
      "0.7586206896551724\n"
     ]
    }
   ],
   "source": [
    "#model implementation and metrics \n",
    "\n",
    "from sklearn.naive_bayes import MultinomialNB\n",
    "from sklearn.metrics import f1_score,accuracy_score,precision_score,recall_score\n",
    "from sklearn.metrics import confusion_matrix\n",
    "\n",
    "mb=MultinomialNB()\n",
    "mb.fit(X_train,y_train)\n",
    "\n",
    "y_setpredict=mb.predict(X_test)\n",
    "\n",
    "accuracyScore = accuracy_score(y_test,y_setpredict)*100\n",
    "print(accuracyScore)\n",
    "print(f1_score(y_test,y_setpredict,average='weighted'))\n",
    "print(precision_score(y_test,y_setpredict,average='weighted'))\n",
    "print(recall_score(y_test,y_setpredict,average='weighted'))"
   ]
  },
  {
   "cell_type": "code",
   "execution_count": 9,
   "id": "ddf21245",
   "metadata": {},
   "outputs": [
    {
     "name": "stdout",
     "output_type": "stream",
     "text": [
      "[[3 0 0 0 0 0]\n",
      " [0 1 0 0 0 1]\n",
      " [1 0 3 0 1 1]\n",
      " [0 1 1 3 0 0]\n",
      " [1 0 0 0 3 0]\n",
      " [0 0 0 1 0 8]]\n",
      "0.6782608695652173\n"
     ]
    }
   ],
   "source": [
    "#Logistic regression \n",
    "from sklearn.linear_model import LogisticRegression \n",
    "from sklearn.model_selection import GridSearchCV\n",
    "from sklearn.metrics import confusion_matrix\n",
    "\n",
    "log_params={'penalty':['l1','l2'],'C':[0.0001,0.001,0.01,0.1,1,10,100],'solver':['liblinear','saga']}\n",
    "log_model=GridSearchCV(LogisticRegression(),log_params,cv=5)\n",
    "log_model.fit(X_train,y_train)\n",
    "log_predict=log_model.predict(X_test)\n",
    "log_cm=confusion_matrix(y_test,log_predict)\n",
    "log_score=log_model.best_score_\n",
    "print(log_cm)\n",
    "print(log_score)"
   ]
  },
  {
   "cell_type": "code",
   "execution_count": 18,
   "id": "e8c1af84",
   "metadata": {},
   "outputs": [
    {
     "name": "stdout",
     "output_type": "stream",
     "text": [
      "[[3 0 0 0 0 0]\n",
      " [0 1 0 0 0 1]\n",
      " [1 0 3 0 1 1]\n",
      " [0 1 1 3 0 0]\n",
      " [1 0 0 0 3 0]\n",
      " [0 0 0 1 0 8]]\n",
      "0.6782608695652173\n"
     ]
    }
   ],
   "source": [
    "#KNN\n",
    "\n",
    "from sklearn.neighbors import KNeighborsClassifier \n",
    "from sklearn.model_selection import GridSearchCV\n",
    "from sklearn.metrics import confusion_matrix\n",
    "\n",
    "knn_params={'n_neighbors':[5,7,9,12],'weights':['uniform','distance'],'algorithm':['ball_tree','kd_tree','brute'],'metric':['minkowski','manhattan','euclidean']}\n",
    "knn_model=GridSearchCV(KNeighborsClassifier(),knn_params,cv=5)\n",
    "knn_model.fit(X_train,y_train)\n",
    "knn_predict=log_model.predict(X_test)\n",
    "knn_cm=confusion_matrix(y_test,log_predict)\n",
    "knn_score=log_model.best_score_\n",
    "print(knn_cm)\n",
    "print(knn_score)"
   ]
  },
  {
   "cell_type": "code",
   "execution_count": null,
   "id": "9649d012",
   "metadata": {},
   "outputs": [],
   "source": []
  }
 ],
 "metadata": {
  "kernelspec": {
   "display_name": "Python 3",
   "language": "python",
   "name": "python3"
  },
  "language_info": {
   "codemirror_mode": {
    "name": "ipython",
    "version": 3
   },
   "file_extension": ".py",
   "mimetype": "text/x-python",
   "name": "python",
   "nbconvert_exporter": "python",
   "pygments_lexer": "ipython3",
   "version": "3.9.5"
  }
 },
 "nbformat": 4,
 "nbformat_minor": 5
}
